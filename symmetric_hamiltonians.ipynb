{
 "cells": [
  {
   "cell_type": "markdown",
   "metadata": {
    "id": "LdGtPJWLxc4l"
   },
   "source": [
    "**Setting up functions**\n",
    "\n",
    "Importing functions that perform simulation and creating a testing function that checks the exact ground state energy via diagonalization. This is then compared to the ground state given by the Schur basis algorithm. We also check that the proposed gorund state of the Schur basis algorithm also has the energy of the ground state."
   ]
  },
  {
   "cell_type": "code",
   "execution_count": 1,
   "metadata": {
    "cellView": "form",
    "id": "mdOcM59Iyc2a"
   },
   "outputs": [],
   "source": [
    "from utils import *\n",
    "\n",
    "def test_similarity(n, paulis, coeffs):\n",
    "\tblocks = construct_matrix_blocks(n, paulis, coeffs)\n",
    "\traw = construct_matrix_large(n, paulis, coeffs)\n",
    "\n",
    "\tes, vs = np.linalg.eigh(raw)\n",
    "\tground_energy = es[0]\n",
    "\tground_state = vs[:,0]\n",
    "\n",
    "\te_min = 9999999999999999\n",
    "\tfor block_id, block in enumerate(blocks):\n",
    "\t\tes_block, vs_block = np.linalg.eigh(block)\n",
    "\t\tif es_block[0] < e_min:\n",
    "\t\t\te_min = es_block[0]\n",
    "\t\t\tv_min = vs_block[:,0]\n",
    "\t\t\t# print(block)\n",
    "\t\t\t# print(es_block)\n",
    "\t\t\t# print(v_min)\n",
    "\t\t\tstate = state_constructor(block_id,v_min) ### check conj\n",
    "\tprint('Comparing results')\n",
    "\tprint('ground energy: ' + str(ground_energy))\n",
    "\tprint('energy given by algorithm: ' + str(e_min))\n",
    "\tconfirm = state.conj()@raw@state\n",
    "\tprint('energy of proposed ground state: '+str(confirm.real))\n",
    "\t# print('ground state: ')\n",
    "\t# print(state)\n",
    "\t# print(v_min)\n",
    "\t# print(ground_state)\n",
    "\tprint()"
   ]
  },
  {
   "cell_type": "markdown",
   "metadata": {
    "id": "XgBdTEvtxcB5"
   },
   "source": [
    "**Testing results with random examples**"
   ]
  },
  {
   "cell_type": "code",
   "execution_count": 2,
   "metadata": {
    "colab": {
     "base_uri": "https://localhost:8080/"
    },
    "id": "ytzIR-ZryiWT",
    "outputId": "693170f6-a306-406f-be20-ee8c6481cea4"
   },
   "outputs": [
    {
     "name": "stdout",
     "output_type": "stream",
     "text": [
      "Comparing results\n",
      "ground energy: -22.409773830446763\n",
      "energy given by algorithm: -22.409773830446774\n",
      "energy of proposed ground state: -22.409773830446756\n",
      "\n"
     ]
    }
   ],
   "source": [
    "### n=4, 5 pauli terms ###\n",
    "test_similarity(4,    # 4 qubits\n",
    "                [[0,0,1],[0,2,0],[0,1,1],[1,2,1],[1,0,1]], #pauli terms in [#X,#Y,#Z] format\n",
    "                np.random.randn(5)) #pick 5 random normal entries for coefficients"
   ]
  },
  {
   "cell_type": "code",
   "execution_count": 3,
   "metadata": {
    "colab": {
     "base_uri": "https://localhost:8080/"
    },
    "id": "FQ3ApKnQzfzW",
    "outputId": "27691812-8109-4e20-d02d-75af699b0087"
   },
   "outputs": [
    {
     "name": "stdout",
     "output_type": "stream",
     "text": [
      "Comparing results\n",
      "ground energy: -71.81581413584149\n",
      "energy given by algorithm: -71.81581413584144\n",
      "energy of proposed ground state: -71.81581413584148\n",
      "\n"
     ]
    }
   ],
   "source": [
    "### n=6, 10 pauli terms ###\n",
    "test_similarity(6,    # 6 qubits\n",
    "                [[0,2,3],[2,2,0],[0,1,1],[1,2,1],[1,2,1],[4,0,0],[3,3,0],[0,2,1],[1,0,0],[2,2,2]], #pauli terms in [#X,#Y,#Z] format\n",
    "                np.random.randn(10)) #pick 10 random normal entries for coefficients"
   ]
  },
  {
   "cell_type": "code",
   "execution_count": 4,
   "metadata": {
    "colab": {
     "base_uri": "https://localhost:8080/"
    },
    "id": "F-wbEu2G24qY",
    "outputId": "04d8489a-139c-43ff-db97-6acae0919646"
   },
   "outputs": [
    {
     "name": "stdout",
     "output_type": "stream",
     "text": [
      "Comparing results\n",
      "ground energy: -3.0\n",
      "energy given by algorithm: -3.0\n",
      "energy of proposed ground state: -2.9999999999999996\n",
      "\n"
     ]
    }
   ],
   "source": [
    "### n=2, singlet state ###\n",
    "test_similarity(2,    # 2 qubits\n",
    "                [[2,0,0],[0,2,0],[0,0,2]], #pauli terms in [#X,#Y,#Z] format\n",
    "                np.asarray([1.,1.,1.])) "
   ]
  },
  {
   "cell_type": "code",
   "execution_count": 5,
   "metadata": {
    "colab": {
     "base_uri": "https://localhost:8080/"
    },
    "id": "7dDBmVuBub5l",
    "outputId": "48e60b1f-a356-4856-e787-8a5c4da4064d"
   },
   "outputs": [
    {
     "name": "stdout",
     "output_type": "stream",
     "text": [
      "Comparing results\n",
      "ground energy: -188.58360808951593\n",
      "energy given by algorithm: -188.58360808951588\n",
      "energy of proposed ground state: -188.58360808951585\n",
      "\n"
     ]
    }
   ],
   "source": [
    "### n=6, 20 random pauli terms ###\n",
    "\n",
    "def random_term(n=6,num = 20):\n",
    "  out = []\n",
    "  for _ in range(num):\n",
    "    slots = np.random.choice(4,size=n)\n",
    "    out.append([np.sum(slots == i) for i in range(3)])\n",
    "  return out\n",
    "\n",
    "test_similarity(6,    # 6 qubits\n",
    "                random_term(n=6,num=20), #pauli terms in [#X,#Y,#Z] format\n",
    "                np.random.randn(20)) #pick 20 random normal entries for coefficients"
   ]
  }
 ],
 "metadata": {
  "colab": {
   "provenance": []
  },
  "kernelspec": {
   "display_name": "Python 3",
   "language": "python",
   "name": "python3"
  },
  "language_info": {
   "codemirror_mode": {
    "name": "ipython",
    "version": 3
   },
   "file_extension": ".py",
   "mimetype": "text/x-python",
   "name": "python",
   "nbconvert_exporter": "python",
   "pygments_lexer": "ipython3",
   "version": "3.8.8"
  }
 },
 "nbformat": 4,
 "nbformat_minor": 1
}
