{
  "nbformat": 4,
  "nbformat_minor": 0,
  "metadata": {
    "colab": {
      "provenance": []
    },
    "kernelspec": {
      "name": "python3",
      "display_name": "Python 3"
    },
    "language_info": {
      "name": "python"
    }
  },
  "cells": [
    {
      "cell_type": "markdown",
      "source": [
        "Setup functions"
      ],
      "metadata": {
        "id": "LdGtPJWLxc4l"
      }
    },
    {
      "cell_type": "code",
      "execution_count": 1,
      "metadata": {
        "cellView": "form",
        "id": "1SV_OAw2xYSb"
      },
      "outputs": [],
      "source": [
        "#@title\n",
        "import numpy as np\n",
        "import itertools\n",
        "from sympy.utilities.iterables import multiset_permutations\n",
        "import math\n",
        "from scipy.special import comb\n",
        "\n",
        "data_type = np.complex128\n",
        "I = np.array([[1,0],[0,1]]).astype(data_type)\n",
        "X = np.array([[0,1],[1,0]]).astype(data_type)\n",
        "Y = np.array([[0,-1j],[1j,0]]).astype(data_type)\n",
        "Z = np.array([[1,0],[0,-1]]).astype(data_type)\n",
        "\n",
        "pauli_dict = {'I':I, 'X':X, 'Y':Y, 'Z':Z}\n",
        "\n",
        "fac_fun = np.math.factorial\n",
        "\n",
        "def get_pauli_matrix(string):\n",
        "\tout = np.array([[1.]]).astype(data_type)\n",
        "\tfor p in string:\n",
        "\t\tout = np.kron(out, pauli_dict[p])\n",
        "\treturn out\n",
        "\n",
        "def get_symmetric_pauli_term(n,nx,ny,nz, normalize = False):\n",
        "\tif nx+ny+nz > n:\n",
        "\t\traise valueError('too many Paulis')\n",
        "\tni = n - nx - ny - nz\n",
        "\n",
        "\tstrings = ['I']*ni + ['X']*nx + ['Y']*ny + ['Z']*nz\n",
        "\tstrings = list(multiset_permutations(strings))\n",
        "\tout = 0\n",
        "\tfor st in strings:\n",
        "\t\tout += get_pauli_matrix(st)\n",
        "\tif normalize:\n",
        "\t\tout /= np.sqrt(len(strings))\n",
        "\treturn out\n",
        "\t\n",
        "def construct_matrix_large(n,paulis,coeffs):\n",
        "\tout = np.zeros((2**n,2**n)).astype(data_type)\n",
        "\tfor p,c in zip(paulis,coeffs):\n",
        "\t\tout += c*get_symmetric_pauli_term(n,*p)\n",
        "\treturn out\n",
        "\n",
        "\n",
        "\n",
        "def sn_spin_transfer_term(n, mu, d1, d2, ix, iy, iz):\n",
        "\ti1 = n - ix - iy - iz\n",
        "\n",
        "\tdef sn_spin_iterator():\n",
        "\t\tfor f11 in range(i1+1):\n",
        "\t\t\tfor g010 in range(i1+1):\n",
        "\t\t\t\tfor g111 in range(i1+1):\n",
        "\t\t\t\t\tfor fxx in range(ix+1):\n",
        "\t\t\t\t\t\tfor g0x1 in range(ix+1):\n",
        "\t\t\t\t\t\t\tfor g1x0 in range(ix+1):\n",
        "\t\t\t\t\t\t\t\tfor fyy in range(iy+1):\n",
        "\t\t\t\t\t\t\t\t\tfor g0y1 in range(iy+1):\n",
        "\t\t\t\t\t\t\t\t\t\tfor g1y0 in range(iy+1):\n",
        "\t\t\t\t\t\t\t\t\t\t\tfor fzz in range(iz+1):\n",
        "\t\t\t\t\t\t\t\t\t\t\t\tfor g0z0 in range(iz+1):\n",
        "\t\t\t\t\t\t\t\t\t\t\t\t\tfor g1z1 in range(iz+1):\n",
        "\t\t\t\t\t\t\t\t\t\t\t\t\t\tchecks = []\n",
        "\t\t\t\t\t\t\t\t\t\t\t\t\t\tchecks.append( (g010 + g0z0 + g0x1 + g0y1) == (n-2*mu-d1) )\n",
        "\t\t\t\t\t\t\t\t\t\t\t\t\t\tchecks.append( (g010 + g0z0 + g1x0 + g1y0) == (n-2*mu-d2) )\n",
        "\t\t\t\t\t\t\t\t\t\t\t\t\t\tchecks.append( (g111 + g1z1 + g1x0 + g1y0) == d1 )\n",
        "\t\t\t\t\t\t\t\t\t\t\t\t\t\tchecks.append( (g111 + g1z1 + g0x1 + g0y1) == d2 )\n",
        "\t\t\t\t\t\t\t\t\t\t\t\t\t\tchecks.append( (2*f11 + g010 + g111) == i1 )\n",
        "\t\t\t\t\t\t\t\t\t\t\t\t\t\tchecks.append( (2*fxx + g0x1 + g1x0) == ix )\n",
        "\t\t\t\t\t\t\t\t\t\t\t\t\t\tchecks.append( (2*fyy + g0y1 + g1y0) == iy )\n",
        "\t\t\t\t\t\t\t\t\t\t\t\t\t\tchecks.append( (2*fzz + g0z0 + g1z1) == iz )\n",
        "\t\t\t\t\t\t\t\t\t\t\t\t\t\tpassed = True\n",
        "\t\t\t\t\t\t\t\t\t\t\t\t\t\tfor check in checks:\n",
        "\t\t\t\t\t\t\t\t\t\t\t\t\t\t\tif not check:\n",
        "\t\t\t\t\t\t\t\t\t\t\t\t\t\t\t\tpassed = False\n",
        "\t\t\t\t\t\t\t\t\t\t\t\t\t\tif passed:\n",
        "\t\t\t\t\t\t\t\t\t\t\t\t\t\t\tyield f11,g010,g111,fxx,g0x1,g1x0,fyy,g0y1,g1y0,fzz,g0z0,g1z1\n",
        "\n",
        "\titerator = sn_spin_iterator()\n",
        "\tterm = 0\n",
        "\tfor f11,g010,g111,fxx,g0x1,g1x0,fyy,g0y1,g1y0,fzz,g0z0,g1z1 in iterator:\n",
        "\t\tfactor = fac_fun(mu)*fac_fun(n-2*mu)\n",
        "\t\tfor value in [f11,g010,g111,fxx,g0x1,g1x0,fyy,g0y1,g1y0,fzz,g0z0,g1z1]:\n",
        "\t\t\tfactor /= fac_fun(value)\n",
        "\t\tprefac = (2*fxx+2*fyy+2*fzz+2*g1z1-g0y1+g1y0) % 4# (2*f11+2*fxx+2*fyy+2*fzz+2*g1z1+g0y1-g1y0) % 4\n",
        "\t\tterm += factor*(1j)**prefac\n",
        "\treturn term/np.sqrt(comb(n-2*mu, d1)*comb(n-2*mu, d2))\n",
        "\n",
        "\n",
        "\n",
        "def get_matrices(n,nx,ny,nz, c=1):\n",
        "\tn_blocks = n//2+1\n",
        "\tout = []\n",
        "\tfor block_i in range(n_blocks):\n",
        "\t\tblock_size = n-block_i*2+1\n",
        "\t\tmat = np.zeros((block_size, block_size)).astype(data_type)\n",
        "\t\tfor i in range(block_size):\n",
        "\t\t\tfor j in range(block_size):\n",
        "\t\t\t\tmat[i,j] = sn_spin_transfer_term(n, block_i, i, j, nx, ny, nz)\n",
        "\t\tout.append(mat*c)\n",
        "\treturn out\n",
        "\n",
        "\n",
        "def add_matrix_blocks(ms):\n",
        "\tout = ms[0]\n",
        "\tms = ms[1:]\n",
        "\tfor m in ms:\n",
        "\t\tfor i in range(len(m)):\n",
        "\t\t\tout[i]+=m[i]\n",
        "\treturn out\n",
        "\n",
        "def construct_matrix_blocks(n,paulis,coeffs):\n",
        "\tms = [get_matrices(n, *p,c=c) for p,c in zip(paulis,coeffs)]\n",
        "\treturn add_matrix_blocks(ms)\n",
        "\n",
        "\n",
        "def dicke(nn,dd):\n",
        "\tdef binary_to_int(st):\n",
        "\t\tout = 0\n",
        "\t\tfor i,s in enumerate(st):\n",
        "\t\t\tout += (2**i)*s\n",
        "\t\treturn out\n",
        "\n",
        "\tstrings = [0]*(nn-dd) + [1]*dd\n",
        "\tcombos = list(multiset_permutations(strings))\n",
        "\tout = np.zeros(2**nn).astype(data_type)\n",
        "\tfor s in combos:\n",
        "\t\tout[binary_to_int(s)] = 1.\n",
        "\treturn out / np.sqrt(len(combos))\n",
        "\n",
        "def state_constructor(n_sing,local_state):\n",
        "\tdef singlet():\n",
        "\t\treturn np.asarray([0,1,-1,0]).astype(data_type)/np.sqrt(2)\n",
        "\tdef all_dicke(nn):\n",
        "\t\tout = np.zeros((2**nn,nn+1)).astype(data_type)\n",
        "\t\tfor i in range(nn+1):\n",
        "\t\t\tout[:,i] = dicke(nn,i)\n",
        "\t\treturn out\n",
        "\n",
        "\tstate = np.ones((1)).astype(data_type)\n",
        "\tfor _ in range(n_sing):\n",
        "\t\tstate = np.kron(state, singlet())\n",
        "\tif len(local_state) == 1:\n",
        "\t\treturn state\n",
        "\telse:\n",
        "\t\t# print('dickes')\n",
        "\t\tdickes = all_dicke(len(local_state)-1)\n",
        "\t\t# print(dickes)\n",
        "\t\t# print(local_state)\n",
        "\t\tlocal_state = dickes@local_state\n",
        "\t\t# print(local_state)\n",
        "\t\treturn np.kron(state,local_state.reshape(-1))\n",
        "\n",
        "\n"
      ]
    },
    {
      "cell_type": "markdown",
      "source": [
        "Testing results with random examples"
      ],
      "metadata": {
        "id": "XgBdTEvtxcB5"
      }
    },
    {
      "cell_type": "code",
      "source": [
        "#@title\n",
        "def test_similarity(n, paulis, coeffs):\n",
        "\tblocks = construct_matrix_blocks(n, paulis, coeffs)\n",
        "\traw = construct_matrix_large(n, paulis, coeffs)\n",
        "\n",
        "\tes, vs = np.linalg.eigh(raw)\n",
        "\tground_energy = es[0]\n",
        "\tground_state = vs[:,0]\n",
        "\n",
        "\te_min = 9999999999999999\n",
        "\tfor block_id, block in enumerate(blocks):\n",
        "\t\tes_block, vs_block = np.linalg.eigh(block)\n",
        "\t\tif es_block[0] < e_min:\n",
        "\t\t\te_min = es_block[0]\n",
        "\t\t\tv_min = vs_block[:,0]\n",
        "\t\t\t# print(block)\n",
        "\t\t\t# print(es_block)\n",
        "\t\t\t# print(v_min)\n",
        "\t\t\tstate = state_constructor(block_id,v_min) ### check conj\n",
        "\tprint('Comparing results')\n",
        "\tprint('ground energy: ' + str(ground_energy))\n",
        "\tprint('energy given by algorithm: ' + str(e_min))\n",
        "\tconfirm = state.conj()@raw@state\n",
        "\tprint('energy of proposed ground state: '+str(confirm.real))\n",
        "\t# print('ground state: ')\n",
        "\t# print(state)\n",
        "\t# print(v_min)\n",
        "\t# print(ground_state)\n",
        "\tprint()"
      ],
      "metadata": {
        "cellView": "form",
        "id": "mdOcM59Iyc2a"
      },
      "execution_count": 2,
      "outputs": []
    },
    {
      "cell_type": "code",
      "source": [
        "### n=4, 5 pauli terms ###\n",
        "test_similarity(4,    # 4 qubits\n",
        "                [[0,0,1],[0,2,0],[0,1,1],[1,2,1],[1,0,1]], #pauli terms in [#X,#Y,#Z] format\n",
        "                np.random.randn(5)) #pick 5 random normal entries for coefficients"
      ],
      "metadata": {
        "colab": {
          "base_uri": "https://localhost:8080/"
        },
        "id": "ytzIR-ZryiWT",
        "outputId": "693170f6-a306-406f-be20-ee8c6481cea4"
      },
      "execution_count": 3,
      "outputs": [
        {
          "output_type": "stream",
          "name": "stdout",
          "text": [
            "Comparing results\n",
            "ground energy: -12.694626996516224\n",
            "energy given by algorithm: -12.694626996516224\n",
            "energy of proposed ground state: -12.694626996516227\n",
            "\n"
          ]
        }
      ]
    },
    {
      "cell_type": "code",
      "source": [
        "### n=6, 10 pauli terms ###\n",
        "test_similarity(6,    # 6 qubits\n",
        "                [[0,2,3],[2,2,0],[0,1,1],[1,2,1],[1,2,1],[4,0,0],[3,3,0],[0,2,1],[1,0,0],[2,2,2]], #pauli terms in [#X,#Y,#Z] format\n",
        "                np.random.randn(10)) #pick 10 random normal entries for coefficients"
      ],
      "metadata": {
        "colab": {
          "base_uri": "https://localhost:8080/"
        },
        "id": "FQ3ApKnQzfzW",
        "outputId": "27691812-8109-4e20-d02d-75af699b0087"
      },
      "execution_count": 4,
      "outputs": [
        {
          "output_type": "stream",
          "name": "stdout",
          "text": [
            "Comparing results\n",
            "ground energy: -141.8574431099601\n",
            "energy given by algorithm: -141.8574431099601\n",
            "energy of proposed ground state: -141.85744310996006\n",
            "\n"
          ]
        }
      ]
    },
    {
      "cell_type": "code",
      "source": [
        "### n=2, singlet state ###\n",
        "test_similarity(2,    # 2 qubits\n",
        "                [[2,0,0],[0,2,0],[0,0,2]], #pauli terms in [#X,#Y,#Z] format\n",
        "                np.asarray([1.,1.,1.])) "
      ],
      "metadata": {
        "colab": {
          "base_uri": "https://localhost:8080/"
        },
        "id": "F-wbEu2G24qY",
        "outputId": "04d8489a-139c-43ff-db97-6acae0919646"
      },
      "execution_count": 5,
      "outputs": [
        {
          "output_type": "stream",
          "name": "stdout",
          "text": [
            "Comparing results\n",
            "ground energy: -3.0\n",
            "energy given by algorithm: -3.0\n",
            "energy of proposed ground state: -2.9999999999999996\n",
            "\n"
          ]
        }
      ]
    },
    {
      "cell_type": "code",
      "source": [
        "### n=6, 20 random pauli terms ###\n",
        "\n",
        "def random_term(n=6,num = 20):\n",
        "  out = []\n",
        "  for _ in range(num):\n",
        "    slots = np.random.choice(4,size=n)\n",
        "    out.append([np.sum(slots == i) for i in range(3)])\n",
        "  return out\n",
        "\n",
        "test_similarity(6,    # 6 qubits\n",
        "                random_term(n=6,num=20), #pauli terms in [#X,#Y,#Z] format\n",
        "                np.random.randn(20)) #pick 20 random normal entries for coefficients"
      ],
      "metadata": {
        "colab": {
          "base_uri": "https://localhost:8080/"
        },
        "id": "7dDBmVuBub5l",
        "outputId": "48e60b1f-a356-4856-e787-8a5c4da4064d"
      },
      "execution_count": 8,
      "outputs": [
        {
          "output_type": "stream",
          "name": "stdout",
          "text": [
            "Comparing results\n",
            "ground energy: -181.44701044671353\n",
            "energy given by algorithm: -181.4470104467135\n",
            "energy of proposed ground state: -181.4470104467135\n",
            "\n"
          ]
        }
      ]
    }
  ]
}